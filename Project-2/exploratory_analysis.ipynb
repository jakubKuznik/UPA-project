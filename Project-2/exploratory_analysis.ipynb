{
 "cells": [
  {
   "cell_type": "code",
   "execution_count": 11,
   "outputs": [],
   "source": [
    "import pandas as pd\n",
    "import numpy as np\n",
    "import matplotlib as plt"
   ],
   "metadata": {
    "collapsed": false,
    "ExecuteTime": {
     "end_time": "2023-11-05T11:57:36.183292380Z",
     "start_time": "2023-11-05T11:57:36.180452916Z"
    }
   },
   "id": "f254cc9fe0952ae3"
  },
  {
   "cell_type": "markdown",
   "source": [
    "Načtení datové sady do formatu pandas dataframe"
   ],
   "metadata": {
    "collapsed": false
   },
   "id": "eba35bce444bbb43"
  },
  {
   "cell_type": "code",
   "execution_count": 6,
   "outputs": [
    {
     "name": "stdout",
     "output_type": "stream",
     "text": [
      "      Age            Course  Gender  CGPA  Stress_Level  Depression_Score  \\\n",
      "0      25            Others    Male  3.56             3                 3   \n",
      "1      24       Engineering  Female  2.44             0                 3   \n",
      "2      19          Business  Female  3.74             4                 0   \n",
      "3      19  Computer Science    Male  3.65             2                 1   \n",
      "4      18          Business    Male  3.40             3                 3   \n",
      "...   ...               ...     ...   ...           ...               ...   \n",
      "7017   20               Law  Female  3.69             3                 1   \n",
      "7018   24           Medical  Female  3.73             3                 4   \n",
      "7019   26            Others    Male  3.65             4                 5   \n",
      "7020   24           Medical    Male  3.65             4                 3   \n",
      "7021   22           Medical  Female   NaN             3                 5   \n",
      "\n",
      "      Anxiety_Score Sleep_Quality Physical_Activity Diet_Quality  \\\n",
      "0                 2          Good          Moderate         Good   \n",
      "1                 0       Average               Low      Average   \n",
      "2                 3          Good               Low      Average   \n",
      "3                 0       Average               Low      Average   \n",
      "4                 4          Good               Low      Average   \n",
      "...             ...           ...               ...          ...   \n",
      "7017              5          Good               Low         Poor   \n",
      "7018              1          Good          Moderate      Average   \n",
      "7019              1          Good              High         Poor   \n",
      "7020              4       Average              High         Poor   \n",
      "7021              0       Average              High      Average   \n",
      "\n",
      "     Social_Support Relationship_Status Substance_Use Counseling_Service_Use  \\\n",
      "0          Moderate             Married         Never                  Never   \n",
      "1               Low              Single  Occasionally           Occasionally   \n",
      "2          Moderate   In a Relationship         Never           Occasionally   \n",
      "3          Moderate              Single           NaN                  Never   \n",
      "4              High             Married         Never                  Never   \n",
      "...             ...                 ...           ...                    ...   \n",
      "7017           High              Single         Never             Frequently   \n",
      "7018           High              Single         Never           Occasionally   \n",
      "7019       Moderate             Married         Never           Occasionally   \n",
      "7020       Moderate              Single         Never                  Never   \n",
      "7021       Moderate   In a Relationship         Never                  Never   \n",
      "\n",
      "     Family_History Chronic_Illness  Financial_Stress  \\\n",
      "0                No              No                 2   \n",
      "1                No              No                 3   \n",
      "2                No              No                 4   \n",
      "3                No              No                 4   \n",
      "4                No             Yes                 0   \n",
      "...             ...             ...               ...   \n",
      "7017            Yes              No                 1   \n",
      "7018             No              No                 3   \n",
      "7019             No             Yes                 4   \n",
      "7020             No             Yes                 4   \n",
      "7021             No              No                 2   \n",
      "\n",
      "     Extracurricular_Involvement  Semester_Credit_Load Residence_Type  \n",
      "0                       Moderate                    17      On-Campus  \n",
      "1                            Low                    27      On-Campus  \n",
      "2                           High                    15      On-Campus  \n",
      "3                       Moderate                    20     Off-Campus  \n",
      "4                           High                    23      On-Campus  \n",
      "...                          ...                   ...            ...  \n",
      "7017                        High                    26     Off-Campus  \n",
      "7018                         Low                    15     Off-Campus  \n",
      "7019                    Moderate                    17     Off-Campus  \n",
      "7020                    Moderate                    18     Off-Campus  \n",
      "7021                         Low                    17    With Family  \n",
      "\n",
      "[7022 rows x 20 columns]\n"
     ]
    }
   ],
   "source": [
    "file = \"students_mental_health_survey.csv\"\n",
    "df = pd.read_csv(file)\n",
    "print(df)"
   ],
   "metadata": {
    "collapsed": false,
    "ExecuteTime": {
     "end_time": "2023-11-05T11:47:47.909583010Z",
     "start_time": "2023-11-05T11:47:47.800302068Z"
    }
   },
   "id": "dab722f2b369fea7"
  },
  {
   "cell_type": "markdown",
   "source": [
    "Získání základních informací o datové sadě"
   ],
   "metadata": {
    "collapsed": false
   },
   "id": "b974a7f6fa565eec"
  },
  {
   "cell_type": "code",
   "execution_count": 7,
   "outputs": [
    {
     "name": "stdout",
     "output_type": "stream",
     "text": [
      "<class 'pandas.core.frame.DataFrame'>\n",
      "RangeIndex: 7022 entries, 0 to 7021\n",
      "Data columns (total 20 columns):\n",
      " #   Column                       Non-Null Count  Dtype  \n",
      "---  ------                       --------------  -----  \n",
      " 0   Age                          7022 non-null   int64  \n",
      " 1   Course                       7022 non-null   object \n",
      " 2   Gender                       7022 non-null   object \n",
      " 3   CGPA                         7010 non-null   float64\n",
      " 4   Stress_Level                 7022 non-null   int64  \n",
      " 5   Depression_Score             7022 non-null   int64  \n",
      " 6   Anxiety_Score                7022 non-null   int64  \n",
      " 7   Sleep_Quality                7022 non-null   object \n",
      " 8   Physical_Activity            7022 non-null   object \n",
      " 9   Diet_Quality                 7022 non-null   object \n",
      " 10  Social_Support               7022 non-null   object \n",
      " 11  Relationship_Status          7022 non-null   object \n",
      " 12  Substance_Use                7007 non-null   object \n",
      " 13  Counseling_Service_Use       7022 non-null   object \n",
      " 14  Family_History               7022 non-null   object \n",
      " 15  Chronic_Illness              7022 non-null   object \n",
      " 16  Financial_Stress             7022 non-null   int64  \n",
      " 17  Extracurricular_Involvement  7022 non-null   object \n",
      " 18  Semester_Credit_Load         7022 non-null   int64  \n",
      " 19  Residence_Type               7022 non-null   object \n",
      "dtypes: float64(1), int64(6), object(13)\n",
      "memory usage: 1.1+ MB\n",
      "None\n"
     ]
    }
   ],
   "source": [
    "print(df.info())"
   ],
   "metadata": {
    "collapsed": false,
    "ExecuteTime": {
     "end_time": "2023-11-05T11:48:56.866830253Z",
     "start_time": "2023-11-05T11:48:56.824952719Z"
    }
   },
   "id": "31786591bcf49891"
  },
  {
   "cell_type": "markdown",
   "source": [
    "Popisná statistika pro numerické sloupce datové sady."
   ],
   "metadata": {
    "collapsed": false
   },
   "id": "4737d03884a83abb"
  },
  {
   "cell_type": "code",
   "execution_count": 8,
   "outputs": [
    {
     "name": "stdout",
     "output_type": "stream",
     "text": [
      "               Age        CGPA  Stress_Level  Depression_Score  Anxiety_Score  \\\n",
      "count  7022.000000  7010.00000   7022.000000       7022.000000    7022.000000   \n",
      "mean     23.003418     3.49127      2.427941          2.254486       2.300484   \n",
      "std       3.853978     0.28742      1.638408          1.625193       1.624305   \n",
      "min      18.000000     2.44000      0.000000          0.000000       0.000000   \n",
      "25%      20.000000     3.29000      1.000000          1.000000       1.000000   \n",
      "50%      22.000000     3.50000      2.000000          2.000000       2.000000   \n",
      "75%      25.000000     3.70000      4.000000          3.000000       4.000000   \n",
      "max      35.000000     4.00000      5.000000          5.000000       5.000000   \n",
      "\n",
      "       Financial_Stress  Semester_Credit_Load  \n",
      "count       7022.000000           7022.000000  \n",
      "mean           2.453005             22.010538  \n",
      "std            1.708995              4.358380  \n",
      "min            0.000000             15.000000  \n",
      "25%            1.000000             18.000000  \n",
      "50%            2.000000             22.000000  \n",
      "75%            4.000000             26.000000  \n",
      "max            5.000000             29.000000  \n"
     ]
    }
   ],
   "source": [
    "print(df.describe())"
   ],
   "metadata": {
    "collapsed": false,
    "ExecuteTime": {
     "end_time": "2023-11-05T11:49:58.324284077Z",
     "start_time": "2023-11-05T11:49:58.246512609Z"
    }
   },
   "id": "48fcb2f89a3757a1"
  },
  {
   "cell_type": "markdown",
   "source": [
    "Nejčatější hodnoty a jejich frekvence pro jednotlivé kategorie."
   ],
   "metadata": {
    "collapsed": false
   },
   "id": "6bf6d5fe6b7d7b10"
  },
  {
   "cell_type": "code",
   "execution_count": 9,
   "outputs": [
    {
     "name": "stdout",
     "output_type": "stream",
     "text": [
      "Medical             2105\n",
      "Law                 1385\n",
      "Engineering         1072\n",
      "Computer Science    1028\n",
      "Business             717\n",
      "Others               715\n",
      "Name: Course, dtype: int64\n",
      "Male      3547\n",
      "Female    3475\n",
      "Name: Gender, dtype: int64\n",
      "Good       3589\n",
      "Average    2735\n",
      "Poor        698\n",
      "Name: Sleep_Quality, dtype: int64\n",
      "Moderate    3521\n",
      "Low         2091\n",
      "High        1410\n",
      "Name: Physical_Activity, dtype: int64\n",
      "Average    4268\n",
      "Good       1385\n",
      "Poor       1369\n",
      "Name: Diet_Quality, dtype: int64\n",
      "Moderate    3470\n",
      "High        2176\n",
      "Low         1376\n",
      "Name: Social_Support, dtype: int64\n",
      "Single               3574\n",
      "In a Relationship    2079\n",
      "Married              1369\n",
      "Name: Relationship_Status, dtype: int64\n",
      "Never           5903\n",
      "Occasionally     699\n",
      "Frequently       405\n",
      "Name: Substance_Use, dtype: int64\n",
      "Never           4263\n",
      "Occasionally    2081\n",
      "Frequently       678\n",
      "Name: Counseling_Service_Use, dtype: int64\n",
      "No     4866\n",
      "Yes    2156\n",
      "Name: Family_History, dtype: int64\n",
      "No     6678\n",
      "Yes     344\n",
      "Name: Chronic_Illness, dtype: int64\n",
      "Moderate    3440\n",
      "Low         2164\n",
      "High        1418\n",
      "Name: Extracurricular_Involvement, dtype: int64\n",
      "On-Campus      2815\n",
      "Off-Campus     2788\n",
      "With Family    1419\n",
      "Name: Residence_Type, dtype: int64\n"
     ]
    }
   ],
   "source": [
    "for column in df.select_dtypes(include=['object', 'category']).columns:\n",
    "    print(df[column].value_counts())"
   ],
   "metadata": {
    "collapsed": false,
    "ExecuteTime": {
     "end_time": "2023-11-05T11:54:55.707423858Z",
     "start_time": "2023-11-05T11:54:55.666708040Z"
    }
   },
   "id": "7a173e95e3b63353"
  }
 ],
 "metadata": {
  "kernelspec": {
   "display_name": "Python 3",
   "language": "python",
   "name": "python3"
  },
  "language_info": {
   "codemirror_mode": {
    "name": "ipython",
    "version": 2
   },
   "file_extension": ".py",
   "mimetype": "text/x-python",
   "name": "python",
   "nbconvert_exporter": "python",
   "pygments_lexer": "ipython2",
   "version": "2.7.6"
  }
 },
 "nbformat": 4,
 "nbformat_minor": 5
}
